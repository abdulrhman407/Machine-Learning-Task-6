{
 "cells": [
  {
   "cell_type": "markdown",
   "id": "67a31e8f",
   "metadata": {},
   "source": [
    "# Import Libraries"
   ]
  },
  {
   "cell_type": "code",
   "execution_count": 1,
   "id": "3d0aa233",
   "metadata": {},
   "outputs": [],
   "source": [
    "import numpy as np\n",
    "import pandas as pd"
   ]
  },
  {
   "cell_type": "markdown",
   "id": "92e5e9aa",
   "metadata": {},
   "source": [
    "# Load Data"
   ]
  },
  {
   "cell_type": "code",
   "execution_count": 2,
   "id": "ed044db9",
   "metadata": {},
   "outputs": [
    {
     "name": "stderr",
     "output_type": "stream",
     "text": [
      "C:\\Users\\20109\\AppData\\Local\\Temp\\ipykernel_17480\\854142271.py:3: DtypeWarning: Columns (0,1,2,3,4,5,6,7,8,9,10,11,12,13,14,15) have mixed types. Specify dtype option on import or set low_memory=False.\n",
      "  data = pd.read_csv(path, header=None, names=['num', 'UTC', 'Temperature', 'Humidity', 'TVOC', 'eCO2', 'Raw_H2', 'Raw_Ethanol', 'Pressure', 'PM1', 'PM2', 'NC0', 'NC1', 'NC2', 'CNT', 'Fire_Alarm'])\n"
     ]
    },
    {
     "name": "stdout",
     "output_type": "stream",
     "text": [
      "Data Describe = \n",
      "\n",
      "          num    UTC  Temperature Humidity   TVOC   eCO2  Raw_H2  Raw_Ethanol  \\\n",
      "count   62631  62631     62631.00    62631  62631  62631   62631        62631   \n",
      "unique  62631  62631     24991.00     5474   2905   2230    2588         3460   \n",
      "top       num    UTC        24.48    53.41      0    400   12786        19438   \n",
      "freq        1      1       222.00       77   1472  20808     273          346   \n",
      "\n",
      "       Pressure       PM1       PM2    NC0    NC1        NC2    CNT Fire_Alarm  \n",
      "count     62631  62631.00  62631.00  62631  62631  62631.000  62631      62631  \n",
      "unique     2991   1650.00   1675.00   4974   6814   1276.000  47960          5  \n",
      "top     938.709      1.79      1.99      0      0      0.043    924          1  \n",
      "freq        152    397.00    377.00    182     80   1538.000      3      26411  \n"
     ]
    }
   ],
   "source": [
    "path = r'E:\\All\\Courses\\Machine Learning Workshop (AOU)\\Lecture 6 (27-4)\\M.L (Task 6)\\smoke_detection_iot.csv'\n",
    "\n",
    "data = pd.read_csv(path, header=None, names=['num', 'UTC', 'Temperature', 'Humidity', 'TVOC', 'eCO2', 'Raw_H2', 'Raw_Ethanol', 'Pressure', 'PM1', 'PM2', 'NC0', 'NC1', 'NC2', 'CNT', 'Fire_Alarm'])\n",
    "\n",
    "print(\"Data Describe = \")\n",
    "print()\n",
    "print(data.describe())"
   ]
  },
  {
   "cell_type": "markdown",
   "id": "154ffbfc",
   "metadata": {},
   "source": [
    "# Rearrange Data"
   ]
  },
  {
   "cell_type": "code",
   "execution_count": 3,
   "id": "00649435",
   "metadata": {},
   "outputs": [
    {
     "name": "stdout",
     "output_type": "stream",
     "text": [
      "Fire_Alarm: \n",
      "\n",
      "         num         UTC Temperature Humidity TVOC eCO2 Raw_H2 Raw_Ethanol  \\\n",
      "32768  32767  1654769116       20.83    50.47  283  400  13119       19983   \n",
      "32769  32768  1654769117       20.83    50.39  285  400  13123       19976   \n",
      "32770  32769  1654769118       20.85    50.32  285  400  13126       19980   \n",
      "32771  32770  1654769119       20.88    50.24  283  400  13119       19982   \n",
      "32772  32771  1654769120       20.88    50.13  285  400  13123       19979   \n",
      "...      ...         ...         ...      ...  ...  ...    ...         ...   \n",
      "51142  51141  1654904158       31.12    18.67    0  873  13077       20927   \n",
      "51146  51145  1654712190       27.32    43.84   29  454  12858       20752   \n",
      "51147  51146  1654712191       27.27    43.98   28  456  12860       20751   \n",
      "56890  56889  1655124311      20.191    43.84   29  454  12858       20752   \n",
      "56891  56890  1655124312      20.254    43.98   28  456  12860       20751   \n",
      "\n",
      "      Pressure   PM1   PM2    NC0    NC1    NC2   CNT Fire_Alarm  \n",
      "32768  939.419  0.49   0.5   3.34  0.521  0.012  7773          1  \n",
      "32769  939.425  0.48   0.5   3.33  0.519  0.012  7774          1  \n",
      "32770  939.416  0.47  0.49   3.26  0.509  0.011  7775          1  \n",
      "32771  939.421  0.47  0.49   3.22  0.502  0.011  7776          1  \n",
      "32772  939.407  0.46  0.48   3.15  0.491  0.011  7777          1  \n",
      "...        ...   ...   ...    ...    ...    ...   ...        ...  \n",
      "51142  930.929   1.0  1.04   6.89  1.075  0.024  1153          1  \n",
      "51146   937.61  2.24  2.32  15.39    2.4  0.054     3          1  \n",
      "51147  937.601  2.26  2.35  15.58  2.429  0.055     4          1  \n",
      "56890   937.61  2.24  2.32  15.39    2.4  0.054     3          1  \n",
      "56891  937.601  2.26  2.35  15.58  2.429  0.055     4          1  \n",
      "\n",
      "[18346 rows x 16 columns]\n",
      "\n",
      ".......................................................................................\n",
      "\n",
      "Not_Fire_Alarm: \n",
      "\n",
      "         num         UTC Temperature Humidity TVOC eCO2 Raw_H2 Raw_Ethanol  \\\n",
      "49989  49988  1654903005       20.75    30.27    0  400  13434       19806   \n",
      "49990  49989  1654903006       20.66    30.42    0  400  13452       19840   \n",
      "49991  49990  1654903007       20.61    30.44    0  400  13454       19866   \n",
      "49992  49991  1654903008       20.61    30.64    0  400  13461       19894   \n",
      "49993  49992  1654903009        20.6    30.68    0  400  13455       19906   \n",
      "...      ...         ...         ...      ...  ...  ...    ...         ...   \n",
      "62626  62625  1655130047      18.438    15.79  625  400  13723       20569   \n",
      "62627  62626  1655130048      18.653    15.87  612  400  13731       20588   \n",
      "62628  62627  1655130049      18.867    15.84  627  400  13725       20582   \n",
      "62629  62628  1655130050      19.083    16.04  638  400  13712       20566   \n",
      "62630  62629  1655130051      19.299    16.52  643  400  13696       20543   \n",
      "\n",
      "      Pressure   PM1   PM2    NC0    NC1    NC2   CNT Fire_Alarm  \n",
      "49989  931.138  1.92  2.47  12.04  2.633  0.508     0          0  \n",
      "49990  931.135  1.91  2.43  11.98  2.585  0.485     1          0  \n",
      "49991  931.134  1.85  2.36  11.62  2.506  0.469     2          0  \n",
      "49992  931.131  1.83  2.33  11.48  2.476  0.463     3          0  \n",
      "49993  931.132  1.78  2.26  11.27  2.397  0.435     4          0  \n",
      "...        ...   ...   ...    ...    ...    ...   ...        ...  \n",
      "62626   936.67  0.63  0.65   4.32  0.673  0.015  5739          0  \n",
      "62627  936.678  0.61  0.63   4.18  0.652  0.015  5740          0  \n",
      "62628  936.687  0.57   0.6   3.95  0.617  0.014  5741          0  \n",
      "62629   936.68  0.57  0.59   3.92  0.611  0.014  5742          0  \n",
      "62630  936.676  0.57  0.59    3.9  0.607  0.014  5743          0  \n",
      "\n",
      "[11517 rows x 16 columns]\n"
     ]
    }
   ],
   "source": [
    "Fire_Alarm = data[data[\"Fire_Alarm\"].isin([1])]\n",
    "Not_Fire_Alarm = data[data[\"Fire_Alarm\"].isin([0])]\n",
    "\n",
    "print(\"Fire_Alarm: \")\n",
    "print()\n",
    "print(Fire_Alarm)\n",
    "print()\n",
    "print(\".......................................................................................\")\n",
    "print()\n",
    "print(\"Not_Fire_Alarm: \")\n",
    "print()\n",
    "print(Not_Fire_Alarm)"
   ]
  },
  {
   "cell_type": "markdown",
   "id": "9a3ae0c2",
   "metadata": {},
   "source": [
    "# Shape"
   ]
  },
  {
   "cell_type": "code",
   "execution_count": 4,
   "id": "1eff2e36",
   "metadata": {},
   "outputs": [
    {
     "name": "stdout",
     "output_type": "stream",
     "text": [
      "\n",
      "X_shape =  (18346, 16)\n",
      "\n",
      "Y_shape =  (11517, 16)\n"
     ]
    }
   ],
   "source": [
    "columns = data.shape[1]\n",
    "X = data.iloc[:,0:columns-1] #From (num) to (CNT)\n",
    "Y = data.iloc[:,-1:columns] #Fire_Alarm\n",
    "\n",
    "X = np.array(Fire_Alarm)\n",
    "Y = np.array(Not_Fire_Alarm)\n",
    "\n",
    "print()\n",
    "print(\"X_shape = \", X.shape)\n",
    "print()\n",
    "print(\"Y_shape = \", Y.shape)"
   ]
  },
  {
   "cell_type": "markdown",
   "id": "b33f8d28",
   "metadata": {},
   "source": [
    "# Number Of Features"
   ]
  },
  {
   "cell_type": "code",
   "execution_count": 5,
   "id": "f8cc344d",
   "metadata": {},
   "outputs": [
    {
     "name": "stdout",
     "output_type": "stream",
     "text": [
      "16\n"
     ]
    }
   ],
   "source": [
    "print(data.shape[1])"
   ]
  },
  {
   "cell_type": "markdown",
   "id": "5713340e",
   "metadata": {},
   "source": [
    "# Number Of Data"
   ]
  },
  {
   "cell_type": "code",
   "execution_count": 6,
   "id": "98ee308c",
   "metadata": {},
   "outputs": [
    {
     "name": "stdout",
     "output_type": "stream",
     "text": [
      "num            62631\n",
      "UTC            62631\n",
      "Temperature    62631\n",
      "Humidity       62631\n",
      "TVOC           62631\n",
      "eCO2           62631\n",
      "Raw_H2         62631\n",
      "Raw_Ethanol    62631\n",
      "Pressure       62631\n",
      "PM1            62631\n",
      "PM2            62631\n",
      "NC0            62631\n",
      "NC1            62631\n",
      "NC2            62631\n",
      "CNT            62631\n",
      "Fire_Alarm     62631\n",
      "dtype: int64\n"
     ]
    }
   ],
   "source": [
    "data = pd.DataFrame(data)\n",
    "\n",
    "print(data.count())"
   ]
  },
  {
   "cell_type": "markdown",
   "id": "d1f2b79b",
   "metadata": {},
   "source": [
    "# Dropping 'UTC' Column"
   ]
  },
  {
   "cell_type": "code",
   "execution_count": 7,
   "id": "1bbfec23",
   "metadata": {},
   "outputs": [
    {
     "data": {
      "text/html": [
       "<div>\n",
       "<style scoped>\n",
       "    .dataframe tbody tr th:only-of-type {\n",
       "        vertical-align: middle;\n",
       "    }\n",
       "\n",
       "    .dataframe tbody tr th {\n",
       "        vertical-align: top;\n",
       "    }\n",
       "\n",
       "    .dataframe thead th {\n",
       "        text-align: right;\n",
       "    }\n",
       "</style>\n",
       "<table border=\"1\" class=\"dataframe\">\n",
       "  <thead>\n",
       "    <tr style=\"text-align: right;\">\n",
       "      <th></th>\n",
       "      <th>num</th>\n",
       "      <th>Temperature</th>\n",
       "      <th>Humidity</th>\n",
       "      <th>TVOC</th>\n",
       "      <th>eCO2</th>\n",
       "      <th>Raw_H2</th>\n",
       "      <th>Raw_Ethanol</th>\n",
       "      <th>Pressure</th>\n",
       "      <th>PM1</th>\n",
       "      <th>PM2</th>\n",
       "      <th>NC0</th>\n",
       "      <th>NC1</th>\n",
       "      <th>NC2</th>\n",
       "      <th>CNT</th>\n",
       "      <th>Fire_Alarm</th>\n",
       "    </tr>\n",
       "  </thead>\n",
       "  <tbody>\n",
       "    <tr>\n",
       "      <th>0</th>\n",
       "      <td>num</td>\n",
       "      <td>Temperature</td>\n",
       "      <td>Humidity</td>\n",
       "      <td>TVOC</td>\n",
       "      <td>eCO2</td>\n",
       "      <td>Raw_H2</td>\n",
       "      <td>Raw_Ethanol</td>\n",
       "      <td>Pressure</td>\n",
       "      <td>PM1</td>\n",
       "      <td>PM2</td>\n",
       "      <td>NC0</td>\n",
       "      <td>NC1</td>\n",
       "      <td>NC2</td>\n",
       "      <td>CNT</td>\n",
       "      <td>Fire_Alarm</td>\n",
       "    </tr>\n",
       "    <tr>\n",
       "      <th>1</th>\n",
       "      <td>0</td>\n",
       "      <td>20</td>\n",
       "      <td>57.36</td>\n",
       "      <td>0</td>\n",
       "      <td>400</td>\n",
       "      <td>12306</td>\n",
       "      <td>18520</td>\n",
       "      <td>939.735</td>\n",
       "      <td>0</td>\n",
       "      <td>0</td>\n",
       "      <td>0</td>\n",
       "      <td>0</td>\n",
       "      <td>0</td>\n",
       "      <td>0</td>\n",
       "      <td>0</td>\n",
       "    </tr>\n",
       "    <tr>\n",
       "      <th>2</th>\n",
       "      <td>1</td>\n",
       "      <td>20.015</td>\n",
       "      <td>56.67</td>\n",
       "      <td>0</td>\n",
       "      <td>400</td>\n",
       "      <td>12345</td>\n",
       "      <td>18651</td>\n",
       "      <td>939.744</td>\n",
       "      <td>0</td>\n",
       "      <td>0</td>\n",
       "      <td>0</td>\n",
       "      <td>0</td>\n",
       "      <td>0</td>\n",
       "      <td>1</td>\n",
       "      <td>0</td>\n",
       "    </tr>\n",
       "    <tr>\n",
       "      <th>3</th>\n",
       "      <td>2</td>\n",
       "      <td>20.029</td>\n",
       "      <td>55.96</td>\n",
       "      <td>0</td>\n",
       "      <td>400</td>\n",
       "      <td>12374</td>\n",
       "      <td>18764</td>\n",
       "      <td>939.738</td>\n",
       "      <td>0</td>\n",
       "      <td>0</td>\n",
       "      <td>0</td>\n",
       "      <td>0</td>\n",
       "      <td>0</td>\n",
       "      <td>2</td>\n",
       "      <td>0</td>\n",
       "    </tr>\n",
       "    <tr>\n",
       "      <th>4</th>\n",
       "      <td>3</td>\n",
       "      <td>20.044</td>\n",
       "      <td>55.28</td>\n",
       "      <td>0</td>\n",
       "      <td>400</td>\n",
       "      <td>12390</td>\n",
       "      <td>18849</td>\n",
       "      <td>939.736</td>\n",
       "      <td>0</td>\n",
       "      <td>0</td>\n",
       "      <td>0</td>\n",
       "      <td>0</td>\n",
       "      <td>0</td>\n",
       "      <td>3</td>\n",
       "      <td>0</td>\n",
       "    </tr>\n",
       "  </tbody>\n",
       "</table>\n",
       "</div>"
      ],
      "text/plain": [
       "   num  Temperature  Humidity  TVOC  eCO2  Raw_H2  Raw_Ethanol  Pressure  PM1  \\\n",
       "0  num  Temperature  Humidity  TVOC  eCO2  Raw_H2  Raw_Ethanol  Pressure  PM1   \n",
       "1    0           20     57.36     0   400   12306        18520   939.735    0   \n",
       "2    1       20.015     56.67     0   400   12345        18651   939.744    0   \n",
       "3    2       20.029     55.96     0   400   12374        18764   939.738    0   \n",
       "4    3       20.044     55.28     0   400   12390        18849   939.736    0   \n",
       "\n",
       "   PM2  NC0  NC1  NC2  CNT  Fire_Alarm  \n",
       "0  PM2  NC0  NC1  NC2  CNT  Fire_Alarm  \n",
       "1    0    0    0    0    0           0  \n",
       "2    0    0    0    0    1           0  \n",
       "3    0    0    0    0    2           0  \n",
       "4    0    0    0    0    3           0  "
      ]
     },
     "execution_count": 7,
     "metadata": {},
     "output_type": "execute_result"
    }
   ],
   "source": [
    "data.drop(['UTC'],axis=1,inplace=True)\n",
    "data.head()"
   ]
  }
 ],
 "metadata": {
  "kernelspec": {
   "display_name": "Python 3 (ipykernel)",
   "language": "python",
   "name": "python3"
  },
  "language_info": {
   "codemirror_mode": {
    "name": "ipython",
    "version": 3
   },
   "file_extension": ".py",
   "mimetype": "text/x-python",
   "name": "python",
   "nbconvert_exporter": "python",
   "pygments_lexer": "ipython3",
   "version": "3.10.9"
  }
 },
 "nbformat": 4,
 "nbformat_minor": 5
}
